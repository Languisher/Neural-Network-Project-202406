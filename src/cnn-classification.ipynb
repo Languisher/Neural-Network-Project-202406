{
 "cells": [
  {
   "cell_type": "markdown",
   "metadata": {},
   "source": [
    "## CNN 1D Implementation"
   ]
  },
  {
   "cell_type": "markdown",
   "metadata": {},
   "source": [
    "Assurez-vous que vous avez déjà exécuté le notebook de :\n",
    "- [la préparation du dataset](prepDataset.ipynb)\n",
    "\n",
    "La structure de ce notebook est la suivante :\n",
    "1. [Charger les datasets préparés par le notebook précédent](#generate-the-iterator-of-the-datasets)\n",
    "2. [Définir le modèle CNN](#define-the-cnn-model)\n",
    "3. Entraîner le modèle\n",
    "4. Évaluer le modèle\n",
    "5. Sauvegarder le modèle"
   ]
  },
  {
   "cell_type": "code",
   "execution_count": 89,
   "metadata": {},
   "outputs": [],
   "source": [
    "import numpy as np\n",
    "from joblib import load, dump\n",
    "import time\n",
    "import matplotlib.pyplot as plt\n",
    "import tqdm\n",
    "from tqdm import trange"
   ]
  },
  {
   "cell_type": "markdown",
   "metadata": {},
   "source": [
    "## Générer l'itérateur des ensembles de données\n",
    "Dans cette section, nous allons générer l'itérateur pour les ensembles de données. Un itérateur permet de parcourir les données par lots"
   ]
  },
  {
   "cell_type": "code",
   "execution_count": 90,
   "metadata": {},
   "outputs": [
    {
     "name": "stdout",
     "output_type": "stream",
     "text": [
      "51\n",
      "14\n",
      "7\n",
      "(64, 512) (64,)\n"
     ]
    }
   ],
   "source": [
    "np.random.seed(100)  \n",
    "\n",
    "def dataloader(batch_size, workers=2):\n",
    "    def create_batches(xdata, ylabel, batch_size):\n",
    "        indices = np.arange(xdata.shape[0])\n",
    "        np.random.shuffle(indices)\n",
    "        xdata = xdata[indices]\n",
    "        ylabel = ylabel[indices]\n",
    "        \n",
    "        num_batches = xdata.shape[0] // batch_size\n",
    "        batches = []\n",
    "        for i in range(num_batches):\n",
    "            x_batch = xdata[i * batch_size:(i + 1) * batch_size]\n",
    "            y_batch = ylabel[i * batch_size:(i + 1) * batch_size]\n",
    "            batches.append((x_batch, y_batch))\n",
    "        \n",
    "        return batches\n",
    "    \n",
    "    train_xdata = load('files/trainX_512_10c')\n",
    "    train_ylabel = load('files/trainY_512_10c')\n",
    "    val_xdata = load('files/valX_512_10c')\n",
    "    val_ylabel = load('files/valY_512_10c')\n",
    "    test_xdata = load('files/testX_512_10c')\n",
    "    test_ylabel = load('files/testY_512_10c')\n",
    "\n",
    "    train_loader = create_batches(train_xdata, train_ylabel, batch_size)\n",
    "    val_loader = create_batches(val_xdata, val_ylabel, batch_size)\n",
    "    test_loader = create_batches(test_xdata, test_ylabel, batch_size)\n",
    "    \n",
    "    return train_loader, val_loader, test_loader\n",
    "\n",
    "batch_size = 64\n",
    "train_loader, val_loader, test_loader = dataloader(batch_size)\n",
    "\n",
    "print(len(train_loader))\n",
    "print(len(val_loader))\n",
    "print(len(test_loader))\n",
    "\n",
    "for x_batch, y_batch in train_loader:\n",
    "    print(x_batch.shape, y_batch.shape)\n",
    "    break\n"
   ]
  },
  {
   "cell_type": "markdown",
   "metadata": {},
   "source": [
    "## Définir le modèle CNN\n",
    "\n",
    "Dans cette partie, nous implémentons les composants du modèle CNN. Les composants nécessaires sont :\n",
    "\n",
    "- Couches convolutionnelles\n",
    "- Couches de pooling (AvgPool, MaxPool)\n",
    "- Couches entièrement connectées (couche linéaire)\n",
    "- Fonction ReLU\n",
    "- Fonction de perte par entropie croisée\n",
    "- Fonction Softmax (pour générer les probabilités)\n",
    "\n",
    "Il est important de mentionner que dans chaque classe, les fonctions de propagation avant et arrière sont implémentées. Utiliser les bibliothèques `pytorch` rendrait certainement l'implémentation plus facile et plus efficace avec l'autograd. Cependant, dans ce notebook, comme requis dans les questions, seule la bibliothèque `numpy` sera utilisée."
   ]
  },
  {
   "cell_type": "markdown",
   "metadata": {},
   "source": [
    "Convolution layer"
   ]
  },
  {
   "cell_type": "code",
   "execution_count": 91,
   "metadata": {},
   "outputs": [],
   "source": [
    "class Conv1D:\n",
    "    def __init__(self, input_channels, output_channels, kernel_size=3, stride=1, padding=1):\n",
    "        self.input_channels = input_channels\n",
    "        self.output_channels = output_channels\n",
    "        self.kernel_size = kernel_size\n",
    "        self.stride = stride\n",
    "        self.padding = padding\n",
    "        self.weights = np.random.randn(output_channels, input_channels, kernel_size) * 0.1\n",
    "        self.bias = np.zeros(output_channels)\n",
    "\n",
    "    def forward(self, x):\n",
    "        batch_size, _, seq_length = x.shape\n",
    "        out_length = (seq_length + 2 * self.padding - self.kernel_size) // self.stride + 1\n",
    "        out = np.zeros((batch_size, self.output_channels, out_length))\n",
    "\n",
    "        padded_x = np.pad(x, ((0, 0), (0, 0), (self.padding, self.padding)), mode='constant')\n",
    "\n",
    "        for b in range(batch_size):\n",
    "            for o in range(self.output_channels):\n",
    "                for i in range(out_length):\n",
    "                    start = i * self.stride\n",
    "                    end = start + self.kernel_size\n",
    "                    out[b, o, i] = np.sum(padded_x[b, :, start:end] * self.weights[o]) + self.bias[o]\n",
    "        \n",
    "        self.cache = (x, out)\n",
    "        return out\n",
    "\n",
    "    def backward(self, dout, learning_rate=0.01):\n",
    "        x, out = self.cache\n",
    "        batch_size, _, seq_length = x.shape\n",
    "        _, _, out_length = dout.shape\n",
    "\n",
    "        padded_x = np.pad(x, ((0, 0), (0, 0), (self.padding, self.padding)), mode='constant')\n",
    "        dweights = np.zeros_like(self.weights)\n",
    "        dbias = np.zeros_like(self.bias)\n",
    "        dx = np.zeros_like(padded_x)\n",
    "\n",
    "        for b in range(batch_size):\n",
    "            for o in range(self.output_channels):\n",
    "                for i in range(out_length):\n",
    "                    start = i * self.stride\n",
    "                    end = start + self.kernel_size\n",
    "                    dweights[o] += dout[b, o, i] * padded_x[b, :, start:end]\n",
    "                    dbias[o] += dout[b, o, i]\n",
    "                    dx[b, :, start:end] += dout[b, o, i] * self.weights[o]\n",
    "        \n",
    "        dx = dx[:, :, self.padding:-self.padding]\n",
    "\n",
    "        self.weights -= learning_rate * dweights\n",
    "        self.bias -= learning_rate * dbias\n",
    "\n",
    "        return dx"
   ]
  },
  {
   "cell_type": "markdown",
   "metadata": {},
   "source": [
    "ReLU layer"
   ]
  },
  {
   "cell_type": "code",
   "execution_count": 92,
   "metadata": {},
   "outputs": [],
   "source": [
    "class ReLU:\n",
    "    def forward(self, x):\n",
    "        self.cache = x\n",
    "        return np.maximum(0, x)\n",
    "\n",
    "    def backward(self, dout, lr):\n",
    "        x = self.cache\n",
    "        dx = dout * (x > 0)\n",
    "        return dx"
   ]
  },
  {
   "cell_type": "code",
   "execution_count": 93,
   "metadata": {},
   "outputs": [],
   "source": [
    "class MaxPool1D:\n",
    "    def __init__(self, kernel_size=2, stride=2):\n",
    "        self.kernel_size = kernel_size\n",
    "        self.stride = stride\n",
    "\n",
    "    def forward(self, x):\n",
    "        batch_size, channels, seq_length = x.shape\n",
    "        out_length = (seq_length - self.kernel_size) // self.stride + 1\n",
    "        out = np.zeros((batch_size, channels, out_length))\n",
    "\n",
    "        self.cache = (x, out_length)\n",
    "\n",
    "        for b in range(batch_size):\n",
    "            for c in range(channels):\n",
    "                for i in range(out_length):\n",
    "                    start = i * self.stride\n",
    "                    end = start + self.kernel_size\n",
    "                    out[b, c, i] = np.max(x[b, c, start:end])\n",
    "        \n",
    "        return out\n",
    "\n",
    "    def backward(self, dout, lr):\n",
    "        x, out_length = self.cache\n",
    "        batch_size, channels, seq_length = x.shape\n",
    "        dx = np.zeros_like(x)\n",
    "\n",
    "        for b in range(batch_size):\n",
    "            for c in range(channels):\n",
    "                for i in range(out_length):\n",
    "                    start = i * self.stride\n",
    "                    end = start + self.kernel_size\n",
    "                    max_val = np.max(x[b, c, start:end])\n",
    "                    dx[b, c, start:end] += (x[b, c, start:end] == max_val) * dout[b, c, i]\n",
    "\n",
    "        return dx"
   ]
  },
  {
   "cell_type": "code",
   "execution_count": 94,
   "metadata": {},
   "outputs": [],
   "source": [
    "class Linear:\n",
    "    def __init__(self, input_dim, output_dim):\n",
    "        self.weights = np.random.randn(input_dim, output_dim) * 0.1\n",
    "        self.bias = np.zeros(output_dim)\n",
    "\n",
    "    def forward(self, x):\n",
    "        self.cache = x\n",
    "        return np.dot(x, self.weights) + self.bias\n",
    "\n",
    "    def backward(self, dout, learning_rate=0.01):\n",
    "        x = self.cache\n",
    "        dweights = np.dot(x.T, dout)\n",
    "        dbias = np.sum(dout, axis=0)\n",
    "        dx = np.dot(dout, self.weights.T)\n",
    "\n",
    "        self.weights -= learning_rate * dweights\n",
    "        self.bias -= learning_rate * dbias\n",
    "\n",
    "        return dx"
   ]
  },
  {
   "cell_type": "code",
   "execution_count": 95,
   "metadata": {},
   "outputs": [],
   "source": [
    "class AvgPool1D:\n",
    "    def forward(self, x):\n",
    "        self.cache = x\n",
    "        return np.mean(x, axis=-1, keepdims=True)\n",
    "\n",
    "    def backward(self, dout):\n",
    "        x = self.cache\n",
    "        dx = dout * np.ones_like(x) / x.shape[-1]\n",
    "        return dx"
   ]
  },
  {
   "cell_type": "code",
   "execution_count": 96,
   "metadata": {},
   "outputs": [],
   "source": [
    "class CNN1DModel:\n",
    "    def __init__(self, batch_size, input_channels, conv_archs, num_classes):\n",
    "        self.batch_size = batch_size\n",
    "        self.input_channels = input_channels\n",
    "        self.conv_archs = conv_archs\n",
    "        self.num_classes = num_classes\n",
    "        self.layers = self.make_layers()\n",
    "        self.avgpool = AvgPool1D()\n",
    "        self.classifier = Linear(conv_archs[-1][-1], num_classes)\n",
    "        \n",
    "    def make_layers(self):\n",
    "        layers = []\n",
    "        for (num_convs, out_channels) in self.conv_archs:\n",
    "            for _ in range(num_convs):\n",
    "                layers.append(Conv1D(self.input_channels, out_channels))\n",
    "                layers.append(ReLU())\n",
    "                self.input_channels = out_channels\n",
    "            layers.append(MaxPool1D())\n",
    "        return layers\n",
    "\n",
    "    def forward(self, x):\n",
    "        x = x.reshape(self.batch_size, 1, -1)\n",
    "        for layer in self.layers:\n",
    "            x = layer.forward(x)\n",
    "        x = self.avgpool.forward(x)\n",
    "        x = x.reshape(self.batch_size, -1)\n",
    "        x = self.classifier.forward(x)\n",
    "        # print(x.shape)\n",
    "        return x\n",
    "\n",
    "    def backward(self, dout, learning_rate=0.01):\n",
    "        dout = self.classifier.backward(dout, learning_rate)\n",
    "        dout = dout.reshape(self.batch_size, -1, 1)\n",
    "        dout = self.avgpool.backward(dout)\n",
    "        for layer in reversed(self.layers):\n",
    "            dout = layer.backward(dout, learning_rate)\n",
    "\n",
    "    def print_shapes(self):\n",
    "        for i, layer in enumerate(self.layers):\n",
    "            print(f\"Layer {i}: {type(layer).__name__}, weights shape: {getattr(layer, 'weights', 'N/A')}\")"
   ]
  },
  {
   "cell_type": "code",
   "execution_count": 97,
   "metadata": {},
   "outputs": [],
   "source": [
    "def cross_entropy_loss(pred, target):\n",
    "    \"\"\"\n",
    "    Compute the cross-entropy loss and its gradient.\n",
    "\n",
    "    Parameters:\n",
    "    pred (np.ndarray): Predicted probabilities (logits) of shape (batch_size, num_classes).\n",
    "    target (np.ndarray): True labels of shape (batch_size,).\n",
    "\n",
    "    Returns:\n",
    "    tuple: Cross-entropy loss and gradient.\n",
    "    \"\"\"\n",
    "    # Ensure predictions are probabilities (apply softmax)\n",
    "    exps = np.exp(pred - np.max(pred, axis=1, keepdims=True))  # subtract max for numerical stability\n",
    "    probs = exps / np.sum(exps, axis=1, keepdims=True)\n",
    "    \n",
    "    # One-hot encode the target labels\n",
    "    batch_size = target.shape[0]\n",
    "    num_classes = pred.shape[1]\n",
    "    one_hot_target = np.zeros_like(pred)\n",
    "    one_hot_target[np.arange(batch_size), target] = 1\n",
    "\n",
    "    # Compute the cross-entropy loss\n",
    "    log_probs = -np.log(probs[np.arange(batch_size), target])\n",
    "    loss = np.sum(log_probs)\n",
    "\n",
    "    # Compute the gradient of the loss\n",
    "    grad = probs - one_hot_target\n",
    "\n",
    "    return loss, grad\n",
    "\n"
   ]
  },
  {
   "cell_type": "code",
   "execution_count": 98,
   "metadata": {},
   "outputs": [],
   "source": [
    "def softmax(x):\n",
    "    exp_x = np.exp(x - np.max(x, axis=1, keepdims=True))\n",
    "    return exp_x / np.sum(exp_x, axis=1, keepdims=True)"
   ]
  },
  {
   "cell_type": "markdown",
   "metadata": {},
   "source": [
    "## Entraîner le modèle\n",
    "Dans cette section, nous allons entraîner le modèle. \n",
    "\n",
    "$$\n",
    "\\color{red}\n",
    "\\text{-----------------------Veuillez lire ceci en premier !!!-----------------------}\n",
    "$$\n",
    "\n",
    "Il est très chronophage d'entraîner un modèle CNN. Nous avons testé et constaté que pour entraîner un modèle que nous avons conçu, pour une seule époque, le temps nécessaire pour exécuter seulement *4* lots coûterait environ 15 minutes.\n",
    "\n",
    "Pour expliquer pourquoi c'est ainsi, le nombre de paramètres dans le modèle est de $615654$. Pour chaque lot, nous devons calculer la propagation avant et arrière. La propagation avant est calculée en multipliant l'entrée par la matrice de poids et en ajoutant le biais. La propagation arrière est calculée en multipliant le gradient de la fonction de perte par la matrice de poids. Cela est fait pour chaque couche du modèle. La complexité temporelle de cette opération est de $O(n^2)$ où $n$ est le nombre de paramètres dans le modèle. C'est pourquoi il est si chronophage d'entraîner un modèle avec un grand nombre de paramètres.\n",
    "\n",
    "Ci-dessous, vous pouvez essayer par vous-même d'exécuter la fonction `model_train` et observer comment elle fonctionne.\n",
    "\n",
    "Nous avons enregistré les résultats de la sortie de cette fonction en la faisant fonctionner pendant plus de 40 heures. Les valeurs ont été enregistrées dans les fichiers respectivement nommés `tl.npy`, `vl.npy`, `ta.npy`, et `va.npy`. Vous pouvez charger ces fichiers et tracer les résultats. Ces valeurs sont respectivement la perte d'entraînement, la perte de validation, la précision d'entraînement et la précision de validation.\n",
    "\n",
    "![image](files/image.png)"
   ]
  },
  {
   "cell_type": "code",
   "execution_count": null,
   "metadata": {},
   "outputs": [],
   "source": [
    "batch_size = 64\n",
    "epochs = 100\n",
    "\n",
    "train_loader, val_loader, test_loader = dataloader(batch_size)\n",
    "\n",
    "model = CNN1DModel(batch_size, input_channels=1, conv_archs=[(2, 128)], num_classes=10)\n",
    "def optimizer():\n",
    "    return None\n",
    "\n",
    "loss_function = cross_entropy_loss\n",
    "\n",
    "model_train(batch_size, epochs, model, None, loss_function, train_loader, val_loader)"
   ]
  },
  {
   "cell_type": "markdown",
   "metadata": {},
   "source": [
    "## Resultats"
   ]
  },
  {
   "cell_type": "code",
   "execution_count": 100,
   "metadata": {},
   "outputs": [],
   "source": [
    "# import scienceplots\n",
    "\n",
    "# plt.style.use(['science', 'ieee'])"
   ]
  },
  {
   "cell_type": "code",
   "execution_count": 101,
   "metadata": {},
   "outputs": [
    {
     "data": {
      "text/plain": [
       "<matplotlib.legend.Legend at 0x7fb543de6bf0>"
      ]
     },
     "execution_count": 101,
     "metadata": {},
     "output_type": "execute_result"
    },
    {
     "data": {
      "image/png": "[encoded data removed]",
      "text/plain": [
       "<Figure size 640x480 with 1 Axes>"
      ]
     },
     "metadata": {},
     "output_type": "display_data"
    }
   ],
   "source": [
    "tl = np.load(\"files/tl.npy\")\n",
    "ta = np.load(\"files/ta.npy\")\n",
    "vl = np.load(\"files/vl.npy\")\n",
    "va = np.load(\"files/va.npy\")\n",
    "\n",
    "\n",
    "plt.xlabel('Epochs (number)')\n",
    "plt.ylabel('Loss (Value)/Accuracy (100%)')\n",
    "plt.plot(tl, color='b', label='train_loss')\n",
    "plt.plot(ta, color='g', label='train_acc')\n",
    "plt.plot(vl, color='y', label='validate_loss')\n",
    "plt.plot(va, color='r', label='validate_acc')\n",
    "plt.legend()"
   ]
  },
  {
   "cell_type": "code",
   "execution_count": 102,
   "metadata": {},
   "outputs": [
    {
     "data": {
      "text/plain": [
       "<matplotlib.legend.Legend at 0x7fb543b96110>"
      ]
     },
     "execution_count": 102,
     "metadata": {},
     "output_type": "execute_result"
    },
    {
     "data": {
      "image/png": "[encoded data removed]",
      "text/plain": [
       "<Figure size 640x480 with 1 Axes>"
      ]
     },
     "metadata": {},
     "output_type": "display_data"
    }
   ],
   "source": [
    "vl = np.load(\"files/vl.npy\")\n",
    "va = np.load(\"files/va.npy\")\n",
    "plt.xlabel('Epochs (number)')\n",
    "plt.ylabel('Accuracy (100%)')\n",
    "plt.plot(ta, color='b', label='train_acc')\n",
    "plt.plot(va, color='r', label='validate_acc')\n",
    "plt.legend()"
   ]
  },
  {
   "cell_type": "code",
   "execution_count": 103,
   "metadata": {},
   "outputs": [
    {
     "name": "stdout",
     "output_type": "stream",
     "text": [
      "Accuracy pourcentage: (test / validation)\n",
      "0.9558823529411765\n",
      "0.9386160714285714\n"
     ]
    },
    {
     "data": {
      "text/plain": [
       "(None, None)"
      ]
     },
     "execution_count": 103,
     "metadata": {},
     "output_type": "execute_result"
    }
   ],
   "source": [
    "print('Accuracy pourcentage: (test / validation)')\n",
    "print(ta[-1]), print(va[-1])"
   ]
  },
  {
   "cell_type": "markdown",
   "metadata": {},
   "source": [
    "## Amélioration : CNN 2D !!"
   ]
  }
 ],
 "metadata": {
  "kernelspec": {
   "display_name": "myconda",
   "language": "python",
   "name": "python3"
  },
  "language_info": {
   "codemirror_mode": {
    "name": "ipython",
    "version": 3
   },
   "file_extension": ".py",
   "mimetype": "text/x-python",
   "name": "python",
   "nbconvert_exporter": "python",
   "pygments_lexer": "ipython3",
   "version": "3.10.12"
  }
 },
 "nbformat": 4,
 "nbformat_minor": 2
}
