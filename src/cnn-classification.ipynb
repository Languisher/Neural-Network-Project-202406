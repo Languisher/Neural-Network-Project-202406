{
 "cells": [
  {
   "cell_type": "markdown",
   "metadata": {},
   "source": [
    "## CNN Implementation of the classification task"
   ]
  },
  {
   "cell_type": "markdown",
   "metadata": {},
   "source": [
    "Assure that you've already executed the notebook of:\n",
    "- [the preparation of the dataset](prepDataset.ipynb)\n",
    "\n",
    "The structure of this notebook is as follows:\n",
    "1. [Load the datasets prepared by the previous notebook](#generate-the-iterator-of-the-datasets)\n",
    "2. [Define the CNN model](#define-the-cnn-model)\n",
    "3. Train the model\n",
    "4. Evaluate the model\n",
    "5. Save the model"
   ]
  },
  {
   "cell_type": "code",
   "execution_count": 1,
   "metadata": {},
   "outputs": [],
   "source": [
    "import numpy as np\n",
    "from joblib import load, dump\n",
    "import time\n",
    "import matplotlib.pyplot as plt\n",
    "import tqdm\n",
    "from tqdm import trange"
   ]
  },
  {
   "cell_type": "markdown",
   "metadata": {},
   "source": [
    "## Generate the iterator of the datasets"
   ]
  },
  {
   "cell_type": "code",
   "execution_count": 2,
   "metadata": {},
   "outputs": [
    {
     "name": "stdout",
     "output_type": "stream",
     "text": [
      "51\n",
      "14\n",
      "7\n",
      "(64, 512) (64,)\n"
     ]
    }
   ],
   "source": [
    "np.random.seed(100)  # 设置随机种子，以使实验结果具有可重复性\n",
    "\n",
    "# 加载数据集\n",
    "def dataloader(batch_size, workers=2):\n",
    "    def create_batches(xdata, ylabel, batch_size):\n",
    "        # Shuffling data\n",
    "        indices = np.arange(xdata.shape[0])\n",
    "        np.random.shuffle(indices)\n",
    "        xdata = xdata[indices]\n",
    "        ylabel = ylabel[indices]\n",
    "        \n",
    "        # Creating batches\n",
    "        num_batches = xdata.shape[0] // batch_size\n",
    "        batches = []\n",
    "        for i in range(num_batches):\n",
    "            x_batch = xdata[i * batch_size:(i + 1) * batch_size]\n",
    "            y_batch = ylabel[i * batch_size:(i + 1) * batch_size]\n",
    "            batches.append((x_batch, y_batch))\n",
    "        \n",
    "        return batches\n",
    "    \n",
    "    # 训练集\n",
    "    train_xdata = load('files/trainX_512_10c')\n",
    "    train_ylabel = load('files/trainY_512_10c')\n",
    "    # 验证集\n",
    "    val_xdata = load('files/valX_512_10c')\n",
    "    val_ylabel = load('files/valY_512_10c')\n",
    "    # 测试集\n",
    "    test_xdata = load('files/testX_512_10c')\n",
    "    test_ylabel = load('files/testY_512_10c')\n",
    "\n",
    "    # 加载数据\n",
    "    train_loader = create_batches(train_xdata, train_ylabel, batch_size)\n",
    "    val_loader = create_batches(val_xdata, val_ylabel, batch_size)\n",
    "    test_loader = create_batches(test_xdata, test_ylabel, batch_size)\n",
    "    \n",
    "    return train_loader, val_loader, test_loader\n",
    "\n",
    "batch_size = 64\n",
    "# 加载数据\n",
    "train_loader, val_loader, test_loader = dataloader(batch_size)\n",
    "\n",
    "print(len(train_loader))\n",
    "print(len(val_loader))\n",
    "print(len(test_loader))\n",
    "\n",
    "# Example of iterating through batches\n",
    "for x_batch, y_batch in train_loader:\n",
    "    print(x_batch.shape, y_batch.shape)\n",
    "    break\n"
   ]
  },
  {
   "cell_type": "markdown",
   "metadata": {},
   "source": [
    "## Define the CNN Model"
   ]
  },
  {
   "cell_type": "code",
   "execution_count": 3,
   "metadata": {},
   "outputs": [],
   "source": [
    "class Conv1D:\n",
    "    def __init__(self, input_channels, output_channels, kernel_size=3, stride=1, padding=1):\n",
    "        self.input_channels = input_channels\n",
    "        self.output_channels = output_channels\n",
    "        self.kernel_size = kernel_size\n",
    "        self.stride = stride\n",
    "        self.padding = padding\n",
    "        self.weights = np.random.randn(output_channels, input_channels, kernel_size) * 0.1\n",
    "        self.bias = np.zeros(output_channels)\n",
    "\n",
    "    def forward(self, x):\n",
    "        batch_size, _, seq_length = x.shape\n",
    "        out_length = (seq_length + 2 * self.padding - self.kernel_size) // self.stride + 1\n",
    "        out = np.zeros((batch_size, self.output_channels, out_length))\n",
    "\n",
    "        padded_x = np.pad(x, ((0, 0), (0, 0), (self.padding, self.padding)), mode='constant')\n",
    "\n",
    "        for b in range(batch_size):\n",
    "            for o in range(self.output_channels):\n",
    "                for i in range(out_length):\n",
    "                    start = i * self.stride\n",
    "                    end = start + self.kernel_size\n",
    "                    out[b, o, i] = np.sum(padded_x[b, :, start:end] * self.weights[o]) + self.bias[o]\n",
    "        \n",
    "        self.cache = (x, out)\n",
    "        return out\n",
    "\n",
    "    def backward(self, dout, learning_rate=0.01):\n",
    "        x, out = self.cache\n",
    "        batch_size, _, seq_length = x.shape\n",
    "        _, _, out_length = dout.shape\n",
    "\n",
    "        padded_x = np.pad(x, ((0, 0), (0, 0), (self.padding, self.padding)), mode='constant')\n",
    "        dweights = np.zeros_like(self.weights)\n",
    "        dbias = np.zeros_like(self.bias)\n",
    "        dx = np.zeros_like(padded_x)\n",
    "\n",
    "        for b in range(batch_size):\n",
    "            for o in range(self.output_channels):\n",
    "                for i in range(out_length):\n",
    "                    start = i * self.stride\n",
    "                    end = start + self.kernel_size\n",
    "                    dweights[o] += dout[b, o, i] * padded_x[b, :, start:end]\n",
    "                    dbias[o] += dout[b, o, i]\n",
    "                    dx[b, :, start:end] += dout[b, o, i] * self.weights[o]\n",
    "        \n",
    "        dx = dx[:, :, self.padding:-self.padding]\n",
    "\n",
    "        self.weights -= learning_rate * dweights\n",
    "        self.bias -= learning_rate * dbias\n",
    "\n",
    "        return dx"
   ]
  },
  {
   "cell_type": "code",
   "execution_count": 4,
   "metadata": {},
   "outputs": [],
   "source": [
    "class ReLU:\n",
    "    def forward(self, x):\n",
    "        self.cache = x\n",
    "        return np.maximum(0, x)\n",
    "\n",
    "    def backward(self, dout, lr):\n",
    "        x = self.cache\n",
    "        dx = dout * (x > 0)\n",
    "        return dx"
   ]
  },
  {
   "cell_type": "code",
   "execution_count": 5,
   "metadata": {},
   "outputs": [],
   "source": [
    "class MaxPool1D:\n",
    "    def __init__(self, kernel_size=2, stride=2):\n",
    "        self.kernel_size = kernel_size\n",
    "        self.stride = stride\n",
    "\n",
    "    def forward(self, x):\n",
    "        batch_size, channels, seq_length = x.shape\n",
    "        out_length = (seq_length - self.kernel_size) // self.stride + 1\n",
    "        out = np.zeros((batch_size, channels, out_length))\n",
    "\n",
    "        self.cache = (x, out_length)\n",
    "\n",
    "        for b in range(batch_size):\n",
    "            for c in range(channels):\n",
    "                for i in range(out_length):\n",
    "                    start = i * self.stride\n",
    "                    end = start + self.kernel_size\n",
    "                    out[b, c, i] = np.max(x[b, c, start:end])\n",
    "        \n",
    "        return out\n",
    "\n",
    "    def backward(self, dout, lr):\n",
    "        x, out_length = self.cache\n",
    "        batch_size, channels, seq_length = x.shape\n",
    "        dx = np.zeros_like(x)\n",
    "\n",
    "        for b in range(batch_size):\n",
    "            for c in range(channels):\n",
    "                for i in range(out_length):\n",
    "                    start = i * self.stride\n",
    "                    end = start + self.kernel_size\n",
    "                    max_val = np.max(x[b, c, start:end])\n",
    "                    dx[b, c, start:end] += (x[b, c, start:end] == max_val) * dout[b, c, i]\n",
    "\n",
    "        return dx"
   ]
  },
  {
   "cell_type": "code",
   "execution_count": 6,
   "metadata": {},
   "outputs": [],
   "source": [
    "class Linear:\n",
    "    def __init__(self, input_dim, output_dim):\n",
    "        self.weights = np.random.randn(input_dim, output_dim) * 0.1\n",
    "        self.bias = np.zeros(output_dim)\n",
    "\n",
    "    def forward(self, x):\n",
    "        self.cache = x\n",
    "        return np.dot(x, self.weights) + self.bias\n",
    "\n",
    "    def backward(self, dout, learning_rate=0.01):\n",
    "        x = self.cache\n",
    "        dweights = np.dot(x.T, dout)\n",
    "        dbias = np.sum(dout, axis=0)\n",
    "        dx = np.dot(dout, self.weights.T)\n",
    "\n",
    "        self.weights -= learning_rate * dweights\n",
    "        self.bias -= learning_rate * dbias\n",
    "\n",
    "        return dx"
   ]
  },
  {
   "cell_type": "code",
   "execution_count": 7,
   "metadata": {},
   "outputs": [],
   "source": [
    "class AvgPool1D:\n",
    "    def forward(self, x):\n",
    "        self.cache = x\n",
    "        return np.mean(x, axis=-1, keepdims=True)\n",
    "\n",
    "    def backward(self, dout):\n",
    "        x = self.cache\n",
    "        dx = dout * np.ones_like(x) / x.shape[-1]\n",
    "        return dx"
   ]
  },
  {
   "cell_type": "code",
   "execution_count": 8,
   "metadata": {},
   "outputs": [],
   "source": [
    "class CNN1DModel:\n",
    "    def __init__(self, batch_size, input_channels, conv_archs, num_classes):\n",
    "        self.batch_size = batch_size\n",
    "        self.input_channels = input_channels\n",
    "        self.conv_archs = conv_archs\n",
    "        self.num_classes = num_classes\n",
    "        self.layers = self.make_layers()\n",
    "        self.avgpool = AvgPool1D()\n",
    "        self.classifier = Linear(conv_archs[-1][-1], num_classes)\n",
    "        \n",
    "    def make_layers(self):\n",
    "        layers = []\n",
    "        for (num_convs, out_channels) in self.conv_archs:\n",
    "            for _ in range(num_convs):\n",
    "                layers.append(Conv1D(self.input_channels, out_channels))\n",
    "                layers.append(ReLU())\n",
    "                self.input_channels = out_channels\n",
    "            layers.append(MaxPool1D())\n",
    "        return layers\n",
    "\n",
    "    def forward(self, x):\n",
    "        x = x.reshape(self.batch_size, 1, -1)\n",
    "        for layer in self.layers:\n",
    "            x = layer.forward(x)\n",
    "        x = self.avgpool.forward(x)\n",
    "        x = x.reshape(self.batch_size, -1)\n",
    "        x = self.classifier.forward(x)\n",
    "        # print(x.shape)\n",
    "        return x\n",
    "\n",
    "    def backward(self, dout, learning_rate=0.01):\n",
    "        dout = self.classifier.backward(dout, learning_rate)\n",
    "        dout = dout.reshape(self.batch_size, -1, 1)\n",
    "        dout = self.avgpool.backward(dout)\n",
    "        for layer in reversed(self.layers):\n",
    "            dout = layer.backward(dout, learning_rate)\n",
    "\n",
    "    def print_shapes(self):\n",
    "        for i, layer in enumerate(self.layers):\n",
    "            print(f\"Layer {i}: {type(layer).__name__}, weights shape: {getattr(layer, 'weights', 'N/A')}\")"
   ]
  },
  {
   "cell_type": "code",
   "execution_count": 9,
   "metadata": {},
   "outputs": [
    {
     "name": "stdout",
     "output_type": "stream",
     "text": [
      "Cross-entropy loss: 1.4497006764887528\n",
      "Gradient:\n",
      "[[-0.54340968  0.33825043  0.20515925]\n",
      " [ 0.25519382 -0.48610275  0.23090892]]\n"
     ]
    }
   ],
   "source": [
    "def cross_entropy_loss(pred, target):\n",
    "    \"\"\"\n",
    "    Compute the cross-entropy loss and its gradient.\n",
    "\n",
    "    Parameters:\n",
    "    pred (np.ndarray): Predicted probabilities (logits) of shape (batch_size, num_classes).\n",
    "    target (np.ndarray): True labels of shape (batch_size,).\n",
    "\n",
    "    Returns:\n",
    "    tuple: Cross-entropy loss and gradient.\n",
    "    \"\"\"\n",
    "    # Ensure predictions are probabilities (apply softmax)\n",
    "    exps = np.exp(pred - np.max(pred, axis=1, keepdims=True))  # subtract max for numerical stability\n",
    "    probs = exps / np.sum(exps, axis=1, keepdims=True)\n",
    "    \n",
    "    # One-hot encode the target labels\n",
    "    batch_size = target.shape[0]\n",
    "    num_classes = pred.shape[1]\n",
    "    one_hot_target = np.zeros_like(pred)\n",
    "    one_hot_target[np.arange(batch_size), target] = 1\n",
    "\n",
    "    # Compute the cross-entropy loss\n",
    "    log_probs = -np.log(probs[np.arange(batch_size), target])\n",
    "    loss = np.sum(log_probs)\n",
    "\n",
    "    # Compute the gradient of the loss\n",
    "    grad = probs - one_hot_target\n",
    "\n",
    "    return loss, grad\n",
    "\n",
    "# Example usage\n",
    "pred = np.array([[1.2, 0.9, 0.4], [0.8, 1.5, 0.7]])  # Example logits\n",
    "target = np.array([0, 1])  # Example true labels\n",
    "\n",
    "loss, grad = cross_entropy_loss(pred, target)\n",
    "print(f'Cross-entropy loss: {loss}')\n",
    "print(f'Gradient:\\n{grad}')\n"
   ]
  },
  {
   "cell_type": "code",
   "execution_count": 10,
   "metadata": {},
   "outputs": [],
   "source": [
    "def softmax(x):\n",
    "    exp_x = np.exp(x - np.max(x, axis=1, keepdims=True))\n",
    "    return exp_x / np.sum(exp_x, axis=1, keepdims=True)"
   ]
  },
  {
   "cell_type": "markdown",
   "metadata": {},
   "source": [
    "$$\n",
    "\\color{red}\n",
    "\\text{-----------------------Please read this first !!!-----------------------}\n",
    "$$\n",
    "\n",
    "It is very time-consuming to train a CNN model. We have tested that in order to train a model that we've designed, for a single epoch, the time to execute merely *4* batches would cost $\\approx$ 15 minutes.\n",
    "\n",
    "Below, you could try for yourself to execute the `model_train` function and observate how it works.\n",
    "\n",
    "We have record the results of this function output by make it run for more than 18 hours. The values have been recorded in the files resp. named `tl.npy`, `vl.npy`, `ta.npy`, and `va.npy`. You could load these files and plot the results. These values are resp. the training loss, validation loss, training accuracy, and validation accuracy.\n",
    "\n",
    "![image](files/image.png)"
   ]
  },
  {
   "cell_type": "code",
   "execution_count": 25,
   "metadata": {},
   "outputs": [],
   "source": [
    "def model_train(batch_size, epochs, model, optimizer, loss_function, train_loader, val_loader):\n",
    "    # 样本长度 (Original implementation)\n",
    "    # train_size = len(train_loader) * batch_size\n",
    "    # val_size = len(val_loader) * batch_size\n",
    "    \n",
    "    # You could select only 4 batches at once\n",
    "    train_size = len(train_loader) * 4\n",
    "    val_size = len(val_loader) * 4\n",
    "\n",
    "    # 最高准确率  最佳模型\n",
    "    best_accuracy = 0.0\n",
    "    best_model = model\n",
    "\n",
    "    train_loss = []     # 记录在训练集上每个epoch的loss的变化情况\n",
    "    train_acc = []    # 记录在训练集上每个epoch的准确率的变化情况\n",
    "    validate_acc = []\n",
    "    validate_loss = []\n",
    "\n",
    "    # 计算模型运行时间\n",
    "    start_time = time.time()\n",
    "    for epoch in trange(epochs):\n",
    "        # print(f'Epoch {epoch+1} begins')\n",
    "        # 训练\n",
    "        loss_epoch = 0.0    #保存当前epoch的loss和\n",
    "        correct_epoch = 0  #保存当前epoch的正确个数和\n",
    "        count = 0\n",
    "        for seq, labels in tqdm.tqdm(train_loader): \n",
    "            \n",
    "            # 前向传播\n",
    "            print(f'     Forwarding {count+1} batch')\n",
    "            y_pred = model.forward(seq)\n",
    "            probabilities = softmax(y_pred)\n",
    "            predicted_labels = np.argmax(probabilities, axis=1)\n",
    "            correct_epoch += np.sum(predicted_labels == labels)\n",
    "            # 损失计算\n",
    "            # print(f'     Lossing {count+1} batch')   \n",
    "            loss, dout = loss_function(y_pred, labels)\n",
    "            loss_epoch += loss\n",
    "            # 反向传播和参数更新\n",
    "            print(f'     Backwarding {count+1} batch')\n",
    "            model.backward(dout / batch_size)\n",
    "            \n",
    "            # Break if you want to test the code with only 4 batches\n",
    "            count+= 1\n",
    "            if (count > 3):\n",
    "                break\n",
    "\n",
    "        # 计算准确率\n",
    "        train_accuracy = correct_epoch / train_size \n",
    "        train_loss.append(loss_epoch / train_size)\n",
    "        train_acc.append(train_accuracy)\n",
    "        print(f'Epoch: {epoch+1:2} train_Loss: {loss_epoch/train_size:10.8f} train_Accuracy:{train_accuracy:4.4f}')\n",
    "        \n",
    "        # 每一个epoch结束后，在验证集上验证实验结果\n",
    "        loss_validate = 0.0\n",
    "        correct_validate = 0\n",
    "        for data, label in val_loader:\n",
    "            pre = model.forward(data)\n",
    "            loss, _ = loss_function(pre, label)\n",
    "            loss_validate += loss\n",
    "            correct_validate += np.sum(np.argmax(pre, axis=1) == label)\n",
    "\n",
    "        val_accuracy = correct_validate / val_size \n",
    "        print(f'Epoch: {epoch+1:2} val_Loss:{loss_validate/val_size:10.8f},  validate_Acc:{val_accuracy:4.4f}')\n",
    "        validate_loss.append(loss_validate / val_size)\n",
    "        validate_acc.append(val_accuracy)\n",
    "\n",
    "        # 如果当前模型的准确率优于之前的最佳准确率，则更新最佳模型\n",
    "        if val_accuracy > best_accuracy:\n",
    "            best_accuracy = val_accuracy\n",
    "            best_model = model\n",
    "\n",
    "    # 保存最好的参数\n",
    "    dump(best_model, 'best_model_cnn1d.pkl')\n",
    "   \n",
    "    print(f'\\nDuration: {time.time() - start_time:.0f} seconds')\n",
    "    plt.plot(range(epochs), train_loss, color = 'b',label = 'train_loss')\n",
    "    plt.plot(range(epochs), train_acc, color = 'g',label = 'train_acc')\n",
    "    plt.plot(range(epochs), validate_loss, color = 'y',label = 'validate_loss')\n",
    "    plt.plot(range(epochs), validate_acc, color = 'r',label = 'validate_acc')\n",
    "    plt.legend()\n",
    "    plt.show()   #显示 label\n",
    "    print(\"best_accuracy :\", best_accuracy)"
   ]
  },
  {
   "cell_type": "code",
   "execution_count": 26,
   "metadata": {},
   "outputs": [
    {
     "name": "stderr",
     "output_type": "stream",
     "text": [
      "  0%|          | 0/100 [00:00<?, ?it/s]"
     ]
    },
    {
     "name": "stdout",
     "output_type": "stream",
     "text": [
      "     Forwarding 1 batch\n",
      "     Backwarding 1 batch\n"
     ]
    },
    {
     "name": "stderr",
     "output_type": "stream",
     "text": []
    },
    {
     "name": "stdout",
     "output_type": "stream",
     "text": [
      "     Forwarding 2 batch\n",
      "     Backwarding 2 batch\n"
     ]
    },
    {
     "name": "stderr",
     "output_type": "stream",
     "text": []
    },
    {
     "name": "stdout",
     "output_type": "stream",
     "text": [
      "     Forwarding 3 batch\n",
      "     Backwarding 3 batch\n"
     ]
    },
    {
     "name": "stderr",
     "output_type": "stream",
     "text": []
    },
    {
     "name": "stdout",
     "output_type": "stream",
     "text": [
      "     Forwarding 4 batch\n",
      "     Backwarding 4 batch\n"
     ]
    },
    {
     "name": "stderr",
     "output_type": "stream",
     "text": [
      "  6%|▌         | 3/51 [11:38<3:06:20, 232.94s/it]\n"
     ]
    },
    {
     "name": "stdout",
     "output_type": "stream",
     "text": [
      "Epoch:  1 train_Loss: 2.88736484 train_Accuracy:0.1176\n"
     ]
    },
    {
     "name": "stderr",
     "output_type": "stream",
     "text": [
      "  1%|          | 1/100 [27:36<45:32:27, 1656.04s/it]"
     ]
    },
    {
     "name": "stdout",
     "output_type": "stream",
     "text": [
      "Epoch:  1 val_Loss:36.81168935,  validate_Acc:1.5536\n"
     ]
    },
    {
     "name": "stderr",
     "output_type": "stream",
     "text": []
    },
    {
     "name": "stdout",
     "output_type": "stream",
     "text": [
      "     Forwarding 1 batch\n",
      "     Backwarding 1 batch\n"
     ]
    },
    {
     "name": "stderr",
     "output_type": "stream",
     "text": []
    },
    {
     "name": "stdout",
     "output_type": "stream",
     "text": [
      "     Forwarding 2 batch\n"
     ]
    },
    {
     "name": "stderr",
     "output_type": "stream",
     "text": [
      "  2%|▏         | 1/51 [03:07<2:36:35, 187.90s/it]\n",
      "  1%|          | 1/100 [30:43<50:42:30, 1843.94s/it]\n"
     ]
    },
    {
     "ename": "KeyboardInterrupt",
     "evalue": "",
     "output_type": "error",
     "traceback": [
      "\u001b[0;31m---------------------------------------------------------------------------\u001b[0m",
      "\u001b[0;31mKeyboardInterrupt\u001b[0m                         Traceback (most recent call last)",
      "Cell \u001b[0;32mIn[26], line 17\u001b[0m\n\u001b[1;32m     14\u001b[0m loss_function \u001b[38;5;241m=\u001b[39m cross_entropy_loss\n\u001b[1;32m     16\u001b[0m \u001b[38;5;66;03m# 训练模型\u001b[39;00m\n\u001b[0;32m---> 17\u001b[0m \u001b[43mmodel_train\u001b[49m\u001b[43m(\u001b[49m\u001b[43mbatch_size\u001b[49m\u001b[43m,\u001b[49m\u001b[43m \u001b[49m\u001b[43mepochs\u001b[49m\u001b[43m,\u001b[49m\u001b[43m \u001b[49m\u001b[43mmodel\u001b[49m\u001b[43m,\u001b[49m\u001b[43m \u001b[49m\u001b[43moptimizer\u001b[49m\u001b[43m,\u001b[49m\u001b[43m \u001b[49m\u001b[43mloss_function\u001b[49m\u001b[43m,\u001b[49m\u001b[43m \u001b[49m\u001b[43mtrain_loader\u001b[49m\u001b[43m,\u001b[49m\u001b[43m \u001b[49m\u001b[43mval_loader\u001b[49m\u001b[43m)\u001b[49m\n",
      "Cell \u001b[0;32mIn[25], line 31\u001b[0m, in \u001b[0;36mmodel_train\u001b[0;34m(batch_size, epochs, model, optimizer, loss_function, train_loader, val_loader)\u001b[0m\n\u001b[1;32m     27\u001b[0m \u001b[38;5;28;01mfor\u001b[39;00m seq, labels \u001b[38;5;129;01min\u001b[39;00m tqdm\u001b[38;5;241m.\u001b[39mtqdm(train_loader): \n\u001b[1;32m     28\u001b[0m     \n\u001b[1;32m     29\u001b[0m     \u001b[38;5;66;03m# 前向传播\u001b[39;00m\n\u001b[1;32m     30\u001b[0m     \u001b[38;5;28mprint\u001b[39m(\u001b[38;5;124mf\u001b[39m\u001b[38;5;124m'\u001b[39m\u001b[38;5;124m     Forwarding \u001b[39m\u001b[38;5;132;01m{\u001b[39;00mcount\u001b[38;5;241m+\u001b[39m\u001b[38;5;241m1\u001b[39m\u001b[38;5;132;01m}\u001b[39;00m\u001b[38;5;124m batch\u001b[39m\u001b[38;5;124m'\u001b[39m)\n\u001b[0;32m---> 31\u001b[0m     y_pred \u001b[38;5;241m=\u001b[39m \u001b[43mmodel\u001b[49m\u001b[38;5;241;43m.\u001b[39;49m\u001b[43mforward\u001b[49m\u001b[43m(\u001b[49m\u001b[43mseq\u001b[49m\u001b[43m)\u001b[49m\n\u001b[1;32m     32\u001b[0m     probabilities \u001b[38;5;241m=\u001b[39m softmax(y_pred)\n\u001b[1;32m     33\u001b[0m     predicted_labels \u001b[38;5;241m=\u001b[39m np\u001b[38;5;241m.\u001b[39margmax(probabilities, axis\u001b[38;5;241m=\u001b[39m\u001b[38;5;241m1\u001b[39m)\n",
      "Cell \u001b[0;32mIn[8], line 24\u001b[0m, in \u001b[0;36mCNN1DModel.forward\u001b[0;34m(self, x)\u001b[0m\n\u001b[1;32m     22\u001b[0m x \u001b[38;5;241m=\u001b[39m x\u001b[38;5;241m.\u001b[39mreshape(\u001b[38;5;28mself\u001b[39m\u001b[38;5;241m.\u001b[39mbatch_size, \u001b[38;5;241m1\u001b[39m, \u001b[38;5;241m-\u001b[39m\u001b[38;5;241m1\u001b[39m)\n\u001b[1;32m     23\u001b[0m \u001b[38;5;28;01mfor\u001b[39;00m layer \u001b[38;5;129;01min\u001b[39;00m \u001b[38;5;28mself\u001b[39m\u001b[38;5;241m.\u001b[39mlayers:\n\u001b[0;32m---> 24\u001b[0m     x \u001b[38;5;241m=\u001b[39m \u001b[43mlayer\u001b[49m\u001b[38;5;241;43m.\u001b[39;49m\u001b[43mforward\u001b[49m\u001b[43m(\u001b[49m\u001b[43mx\u001b[49m\u001b[43m)\u001b[49m\n\u001b[1;32m     25\u001b[0m x \u001b[38;5;241m=\u001b[39m \u001b[38;5;28mself\u001b[39m\u001b[38;5;241m.\u001b[39mavgpool\u001b[38;5;241m.\u001b[39mforward(x)\n\u001b[1;32m     26\u001b[0m x \u001b[38;5;241m=\u001b[39m x\u001b[38;5;241m.\u001b[39mreshape(\u001b[38;5;28mself\u001b[39m\u001b[38;5;241m.\u001b[39mbatch_size, \u001b[38;5;241m-\u001b[39m\u001b[38;5;241m1\u001b[39m)\n",
      "Cell \u001b[0;32mIn[3], line 23\u001b[0m, in \u001b[0;36mConv1D.forward\u001b[0;34m(self, x)\u001b[0m\n\u001b[1;32m     21\u001b[0m             start \u001b[38;5;241m=\u001b[39m i \u001b[38;5;241m*\u001b[39m \u001b[38;5;28mself\u001b[39m\u001b[38;5;241m.\u001b[39mstride\n\u001b[1;32m     22\u001b[0m             end \u001b[38;5;241m=\u001b[39m start \u001b[38;5;241m+\u001b[39m \u001b[38;5;28mself\u001b[39m\u001b[38;5;241m.\u001b[39mkernel_size\n\u001b[0;32m---> 23\u001b[0m             out[b, o, i] \u001b[38;5;241m=\u001b[39m \u001b[43mnp\u001b[49m\u001b[38;5;241;43m.\u001b[39;49m\u001b[43msum\u001b[49m\u001b[43m(\u001b[49m\u001b[43mpadded_x\u001b[49m\u001b[43m[\u001b[49m\u001b[43mb\u001b[49m\u001b[43m,\u001b[49m\u001b[43m \u001b[49m\u001b[43m:\u001b[49m\u001b[43m,\u001b[49m\u001b[43m \u001b[49m\u001b[43mstart\u001b[49m\u001b[43m:\u001b[49m\u001b[43mend\u001b[49m\u001b[43m]\u001b[49m\u001b[43m \u001b[49m\u001b[38;5;241;43m*\u001b[39;49m\u001b[43m \u001b[49m\u001b[38;5;28;43mself\u001b[39;49m\u001b[38;5;241;43m.\u001b[39;49m\u001b[43mweights\u001b[49m\u001b[43m[\u001b[49m\u001b[43mo\u001b[49m\u001b[43m]\u001b[49m\u001b[43m)\u001b[49m \u001b[38;5;241m+\u001b[39m \u001b[38;5;28mself\u001b[39m\u001b[38;5;241m.\u001b[39mbias[o]\n\u001b[1;32m     25\u001b[0m \u001b[38;5;28mself\u001b[39m\u001b[38;5;241m.\u001b[39mcache \u001b[38;5;241m=\u001b[39m (x, out)\n\u001b[1;32m     26\u001b[0m \u001b[38;5;28;01mreturn\u001b[39;00m out\n",
      "File \u001b[0;32m~/miniconda3/envs/myconda/lib/python3.10/site-packages/numpy/core/fromnumeric.py:2313\u001b[0m, in \u001b[0;36msum\u001b[0;34m(a, axis, dtype, out, keepdims, initial, where)\u001b[0m\n\u001b[1;32m   2310\u001b[0m         \u001b[38;5;28;01mreturn\u001b[39;00m out\n\u001b[1;32m   2311\u001b[0m     \u001b[38;5;28;01mreturn\u001b[39;00m res\n\u001b[0;32m-> 2313\u001b[0m \u001b[38;5;28;01mreturn\u001b[39;00m \u001b[43m_wrapreduction\u001b[49m\u001b[43m(\u001b[49m\u001b[43ma\u001b[49m\u001b[43m,\u001b[49m\u001b[43m \u001b[49m\u001b[43mnp\u001b[49m\u001b[38;5;241;43m.\u001b[39;49m\u001b[43madd\u001b[49m\u001b[43m,\u001b[49m\u001b[43m \u001b[49m\u001b[38;5;124;43m'\u001b[39;49m\u001b[38;5;124;43msum\u001b[39;49m\u001b[38;5;124;43m'\u001b[39;49m\u001b[43m,\u001b[49m\u001b[43m \u001b[49m\u001b[43maxis\u001b[49m\u001b[43m,\u001b[49m\u001b[43m \u001b[49m\u001b[43mdtype\u001b[49m\u001b[43m,\u001b[49m\u001b[43m \u001b[49m\u001b[43mout\u001b[49m\u001b[43m,\u001b[49m\u001b[43m \u001b[49m\u001b[43mkeepdims\u001b[49m\u001b[38;5;241;43m=\u001b[39;49m\u001b[43mkeepdims\u001b[49m\u001b[43m,\u001b[49m\n\u001b[1;32m   2314\u001b[0m \u001b[43m                      \u001b[49m\u001b[43minitial\u001b[49m\u001b[38;5;241;43m=\u001b[39;49m\u001b[43minitial\u001b[49m\u001b[43m,\u001b[49m\u001b[43m \u001b[49m\u001b[43mwhere\u001b[49m\u001b[38;5;241;43m=\u001b[39;49m\u001b[43mwhere\u001b[49m\u001b[43m)\u001b[49m\n",
      "File \u001b[0;32m~/miniconda3/envs/myconda/lib/python3.10/site-packages/numpy/core/fromnumeric.py:88\u001b[0m, in \u001b[0;36m_wrapreduction\u001b[0;34m(obj, ufunc, method, axis, dtype, out, **kwargs)\u001b[0m\n\u001b[1;32m     85\u001b[0m         \u001b[38;5;28;01melse\u001b[39;00m:\n\u001b[1;32m     86\u001b[0m             \u001b[38;5;28;01mreturn\u001b[39;00m reduction(axis\u001b[38;5;241m=\u001b[39maxis, out\u001b[38;5;241m=\u001b[39mout, \u001b[38;5;241m*\u001b[39m\u001b[38;5;241m*\u001b[39mpasskwargs)\n\u001b[0;32m---> 88\u001b[0m \u001b[38;5;28;01mreturn\u001b[39;00m \u001b[43mufunc\u001b[49m\u001b[38;5;241;43m.\u001b[39;49m\u001b[43mreduce\u001b[49m\u001b[43m(\u001b[49m\u001b[43mobj\u001b[49m\u001b[43m,\u001b[49m\u001b[43m \u001b[49m\u001b[43maxis\u001b[49m\u001b[43m,\u001b[49m\u001b[43m \u001b[49m\u001b[43mdtype\u001b[49m\u001b[43m,\u001b[49m\u001b[43m \u001b[49m\u001b[43mout\u001b[49m\u001b[43m,\u001b[49m\u001b[43m \u001b[49m\u001b[38;5;241;43m*\u001b[39;49m\u001b[38;5;241;43m*\u001b[39;49m\u001b[43mpasskwargs\u001b[49m\u001b[43m)\u001b[49m\n",
      "\u001b[0;31mKeyboardInterrupt\u001b[0m: "
     ]
    }
   ],
   "source": [
    "# 模型训练参数\n",
    "batch_size = 64\n",
    "epochs = 100\n",
    "\n",
    "# 加载数据\n",
    "train_loader, val_loader, test_loader = dataloader(batch_size)\n",
    "\n",
    "# 模型、优化器和损失函数\n",
    "model = CNN1DModel(batch_size, input_channels=1, conv_archs=[(2, 128)], num_classes=10)\n",
    "# 简单的优化器和损失函数\n",
    "def optimizer():\n",
    "    return None\n",
    "\n",
    "loss_function = cross_entropy_loss\n",
    "\n",
    "# 训练模型\n",
    "model_train(batch_size, epochs, model, optimizer, loss_function, train_loader, val_loader)"
   ]
  },
  {
   "cell_type": "code",
   "execution_count": 27,
   "metadata": {},
   "outputs": [],
   "source": [
    "# import scienceplots\n",
    "\n",
    "# plt.style.use(['science', 'ieee'])"
   ]
  },
  {
   "cell_type": "code",
   "execution_count": 19,
   "metadata": {},
   "outputs": [
    {
     "data": {
      "text/plain": [
       "<matplotlib.legend.Legend at 0x7f2ef42e9570>"
      ]
     },
     "execution_count": 19,
     "metadata": {},
     "output_type": "execute_result"
    },
    {
     "data": {
      "image/png": "[encoded data removed]",
      "text/plain": [
       "<Figure size 640x480 with 1 Axes>"
      ]
     },
     "metadata": {},
     "output_type": "display_data"
    }
   ],
   "source": [
    "tl = np.load(\"files/tl.npy\")\n",
    "ta = np.load(\"files/ta.npy\")\n",
    "vl = np.load(\"files/vl.npy\")\n",
    "va = np.load(\"files/va.npy\")\n",
    "\n",
    "\n",
    "plt.xlabel('Epochs (number)')\n",
    "plt.ylabel('Loss (Value)/Accuracy (100%)')\n",
    "plt.plot(range(epochs), tl, color='b', label='train_loss')\n",
    "plt.plot(range(epochs), ta, color='g', label='train_acc')\n",
    "plt.plot(range(epochs), vl, color='y', label='validate_loss')\n",
    "plt.plot(range(epochs), va, color='r', label='validate_acc')\n",
    "plt.legend()"
   ]
  },
  {
   "cell_type": "code",
   "execution_count": 21,
   "metadata": {},
   "outputs": [
    {
     "data": {
      "text/plain": [
       "<matplotlib.legend.Legend at 0x7f2ef423d870>"
      ]
     },
     "execution_count": 21,
     "metadata": {},
     "output_type": "execute_result"
    },
    {
     "data": {
      "image/png": "[encoded data removed]",
      "text/plain": [
       "<Figure size 640x480 with 1 Axes>"
      ]
     },
     "metadata": {},
     "output_type": "display_data"
    }
   ],
   "source": [
    "vl = np.load(\"files/vl.npy\")\n",
    "va = np.load(\"files/va.npy\")\n",
    "plt.xlabel('Epochs (number)')\n",
    "plt.ylabel('Accuracy (100%)')\n",
    "plt.plot(range(epochs), ta, color='g', label='train_acc')\n",
    "plt.plot(range(epochs), va, color='r', label='validate_acc')\n",
    "plt.legend()"
   ]
  }
 ],
 "metadata": {
  "kernelspec": {
   "display_name": "myconda",
   "language": "python",
   "name": "python3"
  },
  "language_info": {
   "codemirror_mode": {
    "name": "ipython",
    "version": 3
   },
   "file_extension": ".py",
   "mimetype": "text/x-python",
   "name": "python",
   "nbconvert_exporter": "python",
   "pygments_lexer": "ipython3",
   "version": "3.10.12"
  }
 },
 "nbformat": 4,
 "nbformat_minor": 2
}
