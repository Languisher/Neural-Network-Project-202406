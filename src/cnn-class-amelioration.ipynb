{
 "cells": [
  {
   "cell_type": "markdown",
   "metadata": {},
   "source": [
    "# CNN 2D Implementation"
   ]
  },
  {
   "cell_type": "markdown",
   "metadata": {},
   "source": [
    "Assurez-vous que vous avez déjà exécuté le notebook de :\n",
    "- [la préparation du dataset](prepDataset.ipynb)\n",
    "- [classification CNN (1D)](cnn-classification.ipynb)\n",
    "\n",
    "Ces fichiers sont très similaires au précédent, mais avec des changements majeurs, c'est-à-dire, (comme indiqué dans la version finale de notre article), nous avons effectué une transformation de 1D à 2D. En ajoutant le nombre de paramètres, nous avons constaté que le taux de précision s'est amélioré."
   ]
  },
  {
   "cell_type": "code",
   "execution_count": 56,
   "metadata": {},
   "outputs": [],
   "source": [
    "import numpy as np\n",
    "from joblib import load, dump\n",
    "import time\n",
    "import matplotlib.pyplot as plt\n",
    "import tqdm\n",
    "from tqdm import trange"
   ]
  },
  {
   "cell_type": "markdown",
   "metadata": {},
   "source": [
    "## Générer l'itérateur des ensembles de données\n",
    "\n",
    "La difference : cette fois-ci, nous utilisons la taille 1024 pour les ensembles de données."
   ]
  },
  {
   "cell_type": "code",
   "execution_count": 64,
   "metadata": {},
   "outputs": [
    {
     "name": "stdout",
     "output_type": "stream",
     "text": [
      "43\n",
      "14\n",
      "14\n",
      "torch.Size([32, 1024]) torch.Size([32])\n"
     ]
    }
   ],
   "source": [
    "np.random.seed(100)  \n",
    "\n",
    "def dataloader(batch_size, workers=2):\n",
    "    def create_batches(xdata, ylabel, batch_size):\n",
    "        # Shuffling data\n",
    "        indices = np.arange(xdata.shape[0])\n",
    "        np.random.shuffle(indices)\n",
    "        xdata = xdata[indices]\n",
    "        ylabel = ylabel[indices]\n",
    "        \n",
    "        # Creating batches\n",
    "        num_batches = xdata.shape[0] // batch_size\n",
    "        batches = []\n",
    "        for i in range(num_batches):\n",
    "            x_batch = xdata[i * batch_size:(i + 1) * batch_size]\n",
    "            y_batch = ylabel[i * batch_size:(i + 1) * batch_size]\n",
    "            batches.append((x_batch, y_batch))\n",
    "        \n",
    "        return batches\n",
    "\n",
    "    train_xdata = load('files/trainX_1024_10c')\n",
    "    train_ylabel = load('files/trainY_1024_10c')\n",
    "    \n",
    "    val_xdata = load('files/valX_1024_10c')\n",
    "    val_ylabel = load('files/valY_1024_10c')\n",
    "\n",
    "    test_xdata = load('files/testX_1024_10c')\n",
    "    test_ylabel = load('files/testY_1024_10c')\n",
    "\n",
    "    train_loader = create_batches(train_xdata, train_ylabel, batch_size)\n",
    "    val_loader = create_batches(val_xdata, val_ylabel, batch_size)\n",
    "    test_loader = create_batches(test_xdata, test_ylabel, batch_size)\n",
    "    \n",
    "    return train_loader, val_loader, test_loader\n",
    "\n",
    "batch_size = 32\n",
    "\n",
    "train_loader, val_loader, test_loader = dataloader(batch_size)\n",
    "\n",
    "print(len(train_loader))\n",
    "print(len(val_loader))\n",
    "print(len(test_loader))\n",
    "\n",
    "for x_batch, y_batch in train_loader:\n",
    "    print(x_batch.shape, y_batch.shape)\n",
    "    break\n"
   ]
  },
  {
   "cell_type": "markdown",
   "metadata": {},
   "source": [
    "## Définir le modèle"
   ]
  },
  {
   "cell_type": "code",
   "execution_count": 65,
   "metadata": {},
   "outputs": [],
   "source": [
    "class Conv2D:\n",
    "    def __init__(self, input_channels, output_channels, kernel_size=3, stride=1, padding=1):\n",
    "        self.input_channels = input_channels\n",
    "        self.output_channels = output_channels\n",
    "        self.kernel_size = kernel_size\n",
    "        self.stride = stride\n",
    "        self.padding = padding\n",
    "        self.weights = np.random.randn(output_channels, input_channels, kernel_size, kernel_size) * 0.1\n",
    "        self.bias = np.zeros(output_channels)\n",
    "\n",
    "    def forward(self, x):\n",
    "        batch_size, _, height, width = x.shape\n",
    "        out_height = (height + 2 * self.padding - self.kernel_size) // self.stride + 1\n",
    "        out_width = (width + 2 * self.padding - self.kernel_size) // self.stride + 1\n",
    "        out = np.zeros((batch_size, self.output_channels, out_height, out_width))\n",
    "\n",
    "        padded_x = np.pad(x, ((0, 0), (0, 0), (self.padding, self.padding), (self.padding, self.padding)), mode='constant')\n",
    "\n",
    "        for b in range(batch_size):\n",
    "            for o in range(self.output_channels):\n",
    "                for i in range(out_height):\n",
    "                    for j in range(out_width):\n",
    "                        start_i = i * self.stride\n",
    "                        start_j = j * self.stride\n",
    "                        end_i = start_i + self.kernel_size\n",
    "                        end_j = start_j + self.kernel_size\n",
    "                        out[b, o, i, j] = np.sum(padded_x[b, :, start_i:end_i, start_j:end_j] * self.weights[o]) + self.bias[o]\n",
    "\n",
    "        self.cache = (x, out)\n",
    "        return out\n",
    "\n",
    "    def backward(self, dout, learning_rate=0.01):\n",
    "        x, out = self.cache\n",
    "        batch_size, _, height, width = x.shape\n",
    "        _, _, out_height, out_width = dout.shape\n",
    "\n",
    "        padded_x = np.pad(x, ((0, 0), (0, 0), (self.padding, self.padding), (self.padding, self.padding)), mode='constant')\n",
    "        dweights = np.zeros_like(self.weights)\n",
    "        dbias = np.zeros_like(self.bias)\n",
    "        dx = np.zeros_like(padded_x)\n",
    "\n",
    "        for b in range(batch_size):\n",
    "            for o in range(self.output_channels):\n",
    "                for i in range(out_height):\n",
    "                    for j in range(out_width):\n",
    "                        start_i = i * self.stride\n",
    "                        start_j = j * self.stride\n",
    "                        end_i = start_i + self.kernel_size\n",
    "                        end_j = start_j + self.kernel_size\n",
    "                        dweights[o] += dout[b, o, i, j] * padded_x[b, :, start_i:end_i, start_j:end_j]\n",
    "                        dbias[o] += dout[b, o, i, j]\n",
    "                        dx[b, :, start_i:end_i, start_j:end_j] += dout[b, o, i, j] * self.weights[o]\n",
    "\n",
    "        dx = dx[:, :, self.padding:-self.padding, self.padding:-self.padding]\n",
    "\n",
    "        self.weights -= learning_rate * dweights\n",
    "        self.bias -= learning_rate * dbias\n",
    "\n",
    "        return dx"
   ]
  },
  {
   "cell_type": "code",
   "execution_count": 67,
   "metadata": {},
   "outputs": [],
   "source": [
    "class ReLU:\n",
    "    def forward(self, x):\n",
    "        self.cache = x\n",
    "        return np.maximum(0, x)\n",
    "\n",
    "    def backward(self, dout, lr):\n",
    "        x = self.cache\n",
    "        dx = dout * (x > 0)\n",
    "        return dx"
   ]
  },
  {
   "cell_type": "code",
   "execution_count": 66,
   "metadata": {},
   "outputs": [],
   "source": [
    "class MaxPool2D:\n",
    "    def __init__(self, kernel_size=2, stride=2):\n",
    "        self.kernel_size = kernel_size\n",
    "        self.stride = stride\n",
    "\n",
    "    def forward(self, x):\n",
    "        batch_size, channels, height, width = x.shape\n",
    "        out_height = (height - self.kernel_size) // self.stride + 1\n",
    "        out_width = (width - self.kernel_size) // self.stride + 1\n",
    "        out = np.zeros((batch_size, channels, out_height, out_width))\n",
    "\n",
    "        self.cache = (x, out_height, out_width)\n",
    "\n",
    "        for b in range(batch_size):\n",
    "            for c in range(channels):\n",
    "                for i in range(out_height):\n",
    "                    for j in range(out_width):\n",
    "                        start_i = i * self.stride\n",
    "                        start_j = j * self.stride\n",
    "                        end_i = start_i + self.kernel_size\n",
    "                        end_j = start_j + self.kernel_size\n",
    "                        out[b, c, i, j] = np.max(x[b, c, start_i:end_i, start_j:end_j])\n",
    "\n",
    "        return out\n",
    "\n",
    "    def backward(self, dout, lr):\n",
    "        x, out_height, out_width = self.cache\n",
    "        batch_size, channels, height, width = x.shape\n",
    "        dx = np.zeros_like(x)\n",
    "\n",
    "        for b in range(batch_size):\n",
    "            for c in range(channels):\n",
    "                for i in range(out_height):\n",
    "                    for j in range(out_width):\n",
    "                        start_i = i * self.stride\n",
    "                        start_j = j * self.stride\n",
    "                        end_i = start_i + self.kernel_size\n",
    "                        end_j = start_j + self.kernel_size\n",
    "                        max_val = np.max(x[b, c, start_i:end_i, start_j:end_j])\n",
    "                        dx[b, c, start_i:end_i, start_j:end_j] += (x[b, c, start_i:end_i, start_j:end_j] == max_val) * dout[b, c, i, j]\n",
    "\n",
    "        return dx\n"
   ]
  },
  {
   "cell_type": "code",
   "execution_count": 68,
   "metadata": {},
   "outputs": [],
   "source": [
    "class Linear:\n",
    "    def __init__(self, input_dim, output_dim):\n",
    "        self.weights = np.random.randn(input_dim, output_dim) * 0.1\n",
    "        self.bias = np.zeros(output_dim)\n",
    "\n",
    "    def forward(self, x):\n",
    "        self.cache = x\n",
    "        return np.dot(x, self.weights) + self.bias\n",
    "\n",
    "    def backward(self, dout, learning_rate=0.01):\n",
    "        x = self.cache\n",
    "        dweights = np.dot(x.T, dout)\n",
    "        dbias = np.sum(dout, axis=0)\n",
    "        dx = np.dot(dout, self.weights.T)\n",
    "\n",
    "        self.weights -= learning_rate * dweights\n",
    "        self.bias -= learning_rate * dbias\n",
    "\n",
    "        return dx\n"
   ]
  },
  {
   "cell_type": "code",
   "execution_count": null,
   "metadata": {},
   "outputs": [],
   "source": [
    "class AdaptiveAvgPool2D:\n",
    "    def __init__(self, output_size):\n",
    "        self.output_size = output_size\n",
    "\n",
    "    def forward(self, x):\n",
    "        batch_size, channels, height, width = x.shape\n",
    "        stride_h = height // self.output_size[0]\n",
    "        stride_w = width // self.output_size[1]\n",
    "        out = np.zeros((batch_size, channels, self.output_size[0], self.output_size[1]))\n",
    "\n",
    "        for b in range(batch_size):\n",
    "            for c in range(channels):\n",
    "                for i in range(self.output_size[0]):\n",
    "                    for j in range(self.output_size[1]):\n",
    "                        start_i = i * stride_h\n",
    "                        start_j = j * stride_w\n",
    "                        end_i = start_i + stride_h\n",
    "                        end_j = start_j + stride_w\n",
    "                        out[b, c, i, j] = np.mean(x[b, c, start_i:end_i, start_j:end_j])\n",
    "                        \n",
    "        self.cache = (x, stride_h, stride_w)\n",
    "        return out\n",
    "\n",
    "    def backward(self, dout):\n",
    "        x, stride_h, stride_w = self.cache\n",
    "        batch_size, channels, height, width = x.shape\n",
    "        dx = np.zeros_like(x)\n",
    "\n",
    "        for b in range(batch_size):\n",
    "            for c in range(channels):\n",
    "                for i in range(self.output_size[0]):\n",
    "                    for j in range(self.output_size[1]):\n",
    "                        start_i = i * stride_h\n",
    "                        start_j = j * stride_w\n",
    "                        end_i = start_i + stride_h\n",
    "                        end_j = start_j + stride_w\n",
    "                        dx[b, c, start_i:end_i, start_j:end_j] += dout[b, c, i, j] / (stride_h * stride_w)\n",
    "        \n",
    "        return dx"
   ]
  },
  {
   "cell_type": "markdown",
   "metadata": {},
   "source": [
    "La CNN 2D Modèle finale est défini au-dessous :"
   ]
  },
  {
   "cell_type": "code",
   "execution_count": 59,
   "metadata": {},
   "outputs": [],
   "source": [
    "class CNN2DModel:\n",
    "    def __init__(self, conv_archs, num_classes, batch_size, input_channels=1):\n",
    "        self.batch_size = batch_size\n",
    "        self.conv_arch = conv_archs \n",
    "        self.input_channels = input_channels \n",
    "        self.features = self.make_layers()\n",
    "        self.avgpool = AdaptiveAvgPool2D((3, 3))\n",
    "        self.classifier = [\n",
    "            Linear(128 * 3 * 3, 500),\n",
    "            ReLU(),\n",
    "            Linear(500, num_classes),\n",
    "        ]\n",
    "        \n",
    "    def make_layers(self):\n",
    "        layers = []\n",
    "        for (num_convs, out_channels) in self.conv_arch:\n",
    "            for _ in range(num_convs):\n",
    "                layers.append(Conv2D(self.input_channels, out_channels))\n",
    "                layers.append(ReLU())\n",
    "                self.input_channels = out_channels\n",
    "            layers.append(MaxPool2D())\n",
    "        return layers\n",
    "\n",
    "    def forward(self, input_seq):\n",
    "        input_seq = input_seq.reshape(self.batch_size, 1, 32, 32)\n",
    "        input_seq = np.transpose(input_seq, (0, 1, 3, 2))\n",
    "        \n",
    "        for layer in self.features:\n",
    "            input_seq = layer.forward(input_seq)\n",
    "        \n",
    "        x = self.avgpool.forward(input_seq)\n",
    "\n",
    "        print(x.shape)\n",
    "        \n",
    "        flat_tensor = x.reshape(self.batch_size, -1)\n",
    "        \n",
    "        for layer in self.classifier:\n",
    "            flat_tensor = layer.forward(flat_tensor)\n",
    "        \n",
    "        return flat_tensor\n",
    "\n",
    "    def backward(self, dout, learning_rate=0.01):\n",
    "        for layer in reversed(self.classifier):\n",
    "            dout = layer.backward(dout, learning_rate)\n",
    "        \n",
    "        dout = dout.reshape(self.batch_size, 128, 3, 3)\n",
    "        dout = self.avgpool.backward(dout)\n",
    "        \n",
    "        for layer in reversed(self.features):\n",
    "            dout = layer.backward(dout, learning_rate)"
   ]
  },
  {
   "cell_type": "markdown",
   "metadata": {},
   "source": [
    "Fonctions pour classfications des images de chiffres manuscrits de 0 à 9."
   ]
  },
  {
   "cell_type": "code",
   "execution_count": 72,
   "metadata": {},
   "outputs": [],
   "source": [
    "def softmax(x):\n",
    "    exp_x = np.exp(x - np.max(x, axis=1, keepdims=True))\n",
    "    return exp_x / np.sum(exp_x, axis=1, keepdims=True)\n",
    "\n",
    "def cross_entropy_loss(pred, target):\n",
    "    exps = np.exp(pred - np.max(pred, axis=1, keepdims=True))\n",
    "    probs = exps / np.sum(exps, axis=1, keepdims=True)\n",
    "    batch_size = target.shape[0]\n",
    "    num_classes = pred.shape[1]\n",
    "    one_hot_target = np.zeros_like(pred)\n",
    "    one_hot_target[np.arange(batch_size), target] = 1\n",
    "    log_probs = -np.log(probs[np.arange(batch_size), target])\n",
    "    loss = np.sum(log_probs)\n",
    "    grad = probs - one_hot_target\n",
    "    return loss, grad\n",
    "\n",
    "def model_train(batch_size, epochs, train_loader, val_loader, model, optimizer, loss_function):\n",
    "    train_size = len(train_loader) # * batch_size\n",
    "    val_size = len(val_loader) # * batch_size\n",
    "\n",
    "    best_accuracy = 0.0\n",
    "    best_model = model\n",
    "\n",
    "    train_loss = []  \n",
    "    train_acc = []   \n",
    "    validate_acc = []\n",
    "    validate_loss = []\n",
    "\n",
    "    # 计算模型运行时间\n",
    "    start_time = time.time()\n",
    "    for epoch in range(epochs):\n",
    "        loss_epoch = 0.0    \n",
    "        correct_epoch = 0 \n",
    "        for seq, labels in train_loader: \n",
    "\n",
    "            # print(seq.size(), labels.size()) \n",
    "            seq = seq.reshape((32, 1, 1024))\n",
    "\n",
    "            # Forward\n",
    "            y_pred = model.forward(seq)\n",
    "\n",
    "            probabilities = softmax(y_pred) # Softmax pour avoir des probabilités\n",
    "            predicted_labels = np.argmax(probabilities, axis=1)\n",
    "\n",
    "            correct_epoch += np.sum(predicted_labels == labels)\n",
    "\n",
    "            loss, dout = loss_function(y_pred, labels)\n",
    "            loss_epoch += loss\n",
    "            print(f'Pour cette epoch, le loss est {loss_epoch}')\n",
    "            model.backward(dout / batch_size)\n",
    "\n",
    "        train_accuracy = correct_epoch / train_size \n",
    "        train_loss.append(loss_epoch / train_size)\n",
    "        train_acc.append(train_accuracy)\n",
    "        print(f'Epoch: {epoch+1:2} train_Loss: {loss_epoch/train_size:10.8f} train_Accuracy:{train_accuracy:4.4f}')\n",
    "        \n",
    "        loss_validate = 0.0\n",
    "        correct_validate = 0\n",
    "        for data, label in val_loader:\n",
    "            pre = model.forward(data)\n",
    "            val_loss, _ = loss_function(pre, label)\n",
    "            loss_validate += val_loss\n",
    "            correct_validate += np.sum(np.argmax(pre, axis=1) == label)\n",
    "            # break\n",
    "\n",
    "        val_accuracy = correct_validate / val_size \n",
    "        print(f'Epoch: {epoch+1:2} val_Loss:{loss_validate/val_size:10.8f},  validate_Acc:{val_accuracy:4.4f}')\n",
    "        validate_loss.append(loss_validate / val_size)\n",
    "        validate_acc.append(val_accuracy)\n",
    "\n",
    "        if val_accuracy > best_accuracy:\n",
    "            best_accuracy = val_accuracy\n",
    "            best_model = model\n",
    "\n",
    "    dump(best_model, 'best_model_cnn2d.pkl')\n",
    "   \n",
    "    print(f'\\nDuration: {time.time() - start_time:.0f} seconds')\n",
    "    plt.plot(range(epochs), train_loss, color='b', label='train_loss')\n",
    "    plt.plot(range(epochs), train_acc, color='g', label='train_acc')\n",
    "    plt.plot(range(epochs), validate_loss, color='y', label='validate_loss')\n",
    "    plt.plot(range(epochs), validate_acc, color='r', label='validate_acc')\n",
    "    plt.legend()\n",
    "    plt.show()\n",
    "    print(\"best_accuracy :\", best_accuracy)\n",
    "\n"
   ]
  },
  {
   "cell_type": "markdown",
   "metadata": {},
   "source": [
    "## Entraîner le modèle\n",
    "Dans cette section, nous allons entraîner le modèle. \n",
    "\n",
    "$$\n",
    "\\color{red}\n",
    "\\text{-----------------------Veuillez lire ceci en premier !!!-----------------------}\n",
    "$$\n",
    "\n",
    "Il est très chronophage d'entraîner un modèle CNN. Pour expliquer pourquoi c'est ainsi, le nombre de paramètres dans le modèle est de $683430$. Ci-dessous, vous pouvez essayer par vous-même d'exécuter la fonction `model_train` et observer comment elle fonctionne.\n",
    "\n",
    "Nous avons enregistré les résultats de la sortie de cette fonction en la faisant fonctionner pendant plus de 60 heures. Les valeurs ont été enregistrées dans les fichiers respectivement nommés `tl2d.npy`, `vl2d.npy`, `ta2d.npy`, et `va2d.npy`. Vous pouvez charger ces fichiers et tracer les résultats. Ces valeurs sont respectivement la perte d'entraînement, la perte de validation, la précision d'entraînement et la précision de validation.\n"
   ]
  },
  {
   "cell_type": "code",
   "execution_count": null,
   "metadata": {},
   "outputs": [],
   "source": [
    "batch_size = 32\n",
    "epochs = 100\n",
    "\n",
    "train_loader, val_loader, test_loader = dataloader(batch_size)\n",
    "\n",
    "model = CNN2DModel(conv_archs=[(2, 32), (1, 64), (1, 128)], num_classes=10, batch_size=batch_size)\n",
    "\n",
    "model_train(batch_size, epochs, train_loader, val_loader, model, None, cross_entropy_loss)"
   ]
  },
  {
   "cell_type": "markdown",
   "metadata": {},
   "source": [
    "## Resultats"
   ]
  },
  {
   "cell_type": "code",
   "execution_count": 75,
   "metadata": {},
   "outputs": [
    {
     "data": {
      "text/plain": [
       "<matplotlib.legend.Legend at 0x7f90bc4aa020>"
      ]
     },
     "execution_count": 75,
     "metadata": {},
     "output_type": "execute_result"
    },
    {
     "data": {
      "image/png": "[encoded data removed]",
      "text/plain": [
       "<Figure size 640x480 with 1 Axes>"
      ]
     },
     "metadata": {},
     "output_type": "display_data"
    }
   ],
   "source": [
    "tl2d = np.load(\"files/tl2d.npy\")\n",
    "ta2d = np.load(\"files/ta2d.npy\")\n",
    "vl2d = np.load(\"files/vl2d.npy\")\n",
    "va2d = np.load(\"files/va2d.npy\")\n",
    "\n",
    "\n",
    "plt.xlabel('Epochs (number)')\n",
    "plt.ylabel('Loss (Value)/Accuracy (100%)')\n",
    "plt.plot(tl2d, color='b', label='train_loss')\n",
    "plt.plot(ta2d, color='g', label='train_acc')\n",
    "plt.plot(vl2d, color='y', label='validate_loss')\n",
    "plt.plot(va2d, color='r', label='validate_acc')\n",
    "plt.legend()"
   ]
  },
  {
   "cell_type": "code",
   "execution_count": 78,
   "metadata": {},
   "outputs": [
    {
     "name": "stdout",
     "output_type": "stream",
     "text": [
      "Accuracy pourcentage: (test / validation)\n",
      "0.9934593023255814\n",
      "0.9821428571428571\n"
     ]
    },
    {
     "data": {
      "text/plain": [
       "(None, None)"
      ]
     },
     "execution_count": 78,
     "metadata": {},
     "output_type": "execute_result"
    }
   ],
   "source": [
    "print('Accuracy pourcentage: (test / validation)')\n",
    "print(ta2d[-1]), print(va2d[-1])"
   ]
  }
 ],
 "metadata": {
  "kernelspec": {
   "display_name": "myconda",
   "language": "python",
   "name": "python3"
  },
  "language_info": {
   "codemirror_mode": {
    "name": "ipython",
    "version": 3
   },
   "file_extension": ".py",
   "mimetype": "text/x-python",
   "name": "python",
   "nbconvert_exporter": "python",
   "pygments_lexer": "ipython3",
   "version": "3.10.12"
  }
 },
 "nbformat": 4,
 "nbformat_minor": 2
}
